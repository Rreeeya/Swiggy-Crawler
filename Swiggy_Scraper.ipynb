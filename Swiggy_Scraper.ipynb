{
 "cells": [
  {
   "cell_type": "code",
   "execution_count": 1,
   "metadata": {},
   "outputs": [],
   "source": [
    "import requests\n",
    "from bs4 import BeautifulSoup"
   ]
  },
  {
   "cell_type": "code",
   "execution_count": 2,
   "metadata": {},
   "outputs": [],
   "source": [
    "import pandas as pd"
   ]
  },
  {
   "cell_type": "markdown",
   "metadata": {},
   "source": [
    "###### Create a web scraper for hotels in Swiggy"
   ]
  },
  {
   "cell_type": "code",
   "execution_count": 5,
   "metadata": {},
   "outputs": [],
   "source": [
    "url1 = 'https://www.swiggy.com/bangalore/north-indian-collection'"
   ]
  },
  {
   "cell_type": "code",
   "execution_count": 6,
   "metadata": {},
   "outputs": [],
   "source": [
    "def scraper(url):\n",
    "    sourcecode = requests.get(url)\n",
    "    plain_text = sourcecode.text\n",
    "    soup = BeautifulSoup(plain_text)\n",
    "    all_info =[]\n",
    "    \n",
    "    #for links of the hotel\n",
    "    links = []\n",
    "    for link in soup.findAll('a',{'class':\"_1j_Yo\"}):\n",
    "        links.append('https://www.swiggy.com'+link.get('href'))\n",
    "    \n",
    "    #for name of the hotel\n",
    "    name = []\n",
    "    for link in soup.findAll('div',{'class':\"nA6kb\"}):\n",
    "        name.append(link.string)\n",
    "    \n",
    "    #for cuisine type of hotel\n",
    "    cuisine =[]\n",
    "    for link in soup.findAll('div',{'class':\"_1gURR\"}):\n",
    "        cuisine.append(link.get('title'))\n",
    "    \n",
    "    #for price\n",
    "    avg_price =[]\n",
    "    for link in soup.findAll('div',{'class':\"nVWSi\"}):\n",
    "        avg_price.append(link.string)\n",
    "    \n",
    "    all_info = [name,cuisine,avg_price,links]\n",
    "    return(all_info)"
   ]
  },
  {
   "cell_type": "code",
   "execution_count": 7,
   "metadata": {},
   "outputs": [],
   "source": [
    "info = scraper(url1)"
   ]
  },
  {
   "cell_type": "code",
   "execution_count": 8,
   "metadata": {},
   "outputs": [
    {
     "name": "stdout",
     "output_type": "stream",
     "text": [
      "16\n",
      "16\n",
      "16\n",
      "16\n"
     ]
    }
   ],
   "source": [
    "print(len(info[0]))\n",
    "print(len(info[1]))\n",
    "print(len(info[2]))\n",
    "print(len(info[3]))\n"
   ]
  },
  {
   "cell_type": "code",
   "execution_count": 9,
   "metadata": {},
   "outputs": [],
   "source": [
    "#create list of urls to scrape from\n",
    "urls = ['https://www.swiggy.com/bangalore/north-indian-collection', 'https://www.swiggy.com/bangalore/north-indian-collection?page=2',\n",
    "        'https://www.swiggy.com/bangalore/biryani-collection', 'https://www.swiggy.com/bangalore/south-indian-collection?page=2',\n",
    "       'https://www.swiggy.com/bangalore/south-indian-collection','https://www.swiggy.com/bangalore/biryani-collection?page=2',\n",
    "        'https://www.swiggy.com/bangalore/top-rated-collection','https://www.swiggy.com/bangalore/top-rated-collection?page=2',\n",
    "       'https://www.swiggy.com/bangalore/super-fast-delivery-collection','https://www.swiggy.com/bangalore/super-fast-delivery-collection?page=2']\n"
   ]
  },
  {
   "cell_type": "code",
   "execution_count": 10,
   "metadata": {},
   "outputs": [],
   "source": [
    "#Create a dict for the csv file of the scraped data\n",
    "def create_csv(info):\n",
    "    dict = {'Name':info[0],'Cuisine':info[1], 'Price': info[2], 'Links':info[3]}\n",
    "    Restaurants = pd.DataFrame(dict)\n",
    "    return Restaurants"
   ]
  },
  {
   "cell_type": "code",
   "execution_count": 11,
   "metadata": {},
   "outputs": [],
   "source": [
    "#north indian collection\n",
    "info = scraper(urls[0])\n",
    "north = create_csv(info)\n",
    "north.to_csv('North_Indian1.csv', index = False)\n",
    "info = scraper(urls[1])\n",
    "north = create_csv(info)\n",
    "north.to_csv('North_Indian2.csv', index = False)"
   ]
  },
  {
   "cell_type": "code",
   "execution_count": 12,
   "metadata": {},
   "outputs": [],
   "source": [
    "#Biriyani Collection\n",
    "info = scraper(urls[2])\n",
    "north = create_csv(info)\n",
    "north.to_csv('Biriyani1.csv', index = False)\n",
    "info = scraper(urls[5])\n",
    "north = create_csv(info)\n",
    "north.to_csv('Biriyani2.csv', index = False)"
   ]
  },
  {
   "cell_type": "code",
   "execution_count": 13,
   "metadata": {},
   "outputs": [],
   "source": [
    "#South indian Collection\n",
    "info = scraper(urls[3])\n",
    "north = create_csv(info)\n",
    "north.to_csv('South_Indian1.csv', index = False)\n",
    "info = scraper(urls[4])\n",
    "north = create_csv(info)\n",
    "north.to_csv('South_Indian2.csv', index = False)"
   ]
  },
  {
   "cell_type": "code",
   "execution_count": 14,
   "metadata": {},
   "outputs": [],
   "source": [
    "#Top Rated Collection\n",
    "info = scraper(urls[6])\n",
    "north = create_csv(info)\n",
    "north.to_csv('TopRated1.csv', index = False)\n",
    "info = scraper(urls[7])\n",
    "north = create_csv(info)\n",
    "north.to_csv('TopRated2.csv', index = False)"
   ]
  },
  {
   "cell_type": "code",
   "execution_count": 15,
   "metadata": {},
   "outputs": [],
   "source": [
    "#Fast Delivery Collection\n",
    "info = scraper(urls[8])\n",
    "north = create_csv(info)\n",
    "north.to_csv('Fast_deli1.csv', index = False)\n",
    "info = scraper(urls[9])\n",
    "north = create_csv(info)\n",
    "north.to_csv('Fast_deli2.csv', index = False)"
   ]
  },
  {
   "cell_type": "code",
   "execution_count": null,
   "metadata": {},
   "outputs": [],
   "source": []
  }
 ],
 "metadata": {
  "kernelspec": {
   "display_name": "Python 3",
   "language": "python",
   "name": "python3"
  },
  "language_info": {
   "codemirror_mode": {
    "name": "ipython",
    "version": 3
   },
   "file_extension": ".py",
   "mimetype": "text/x-python",
   "name": "python",
   "nbconvert_exporter": "python",
   "pygments_lexer": "ipython3",
   "version": "3.7.4"
  }
 },
 "nbformat": 4,
 "nbformat_minor": 2
}
